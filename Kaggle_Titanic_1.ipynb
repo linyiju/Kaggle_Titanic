{
 "cells": [
  {
   "cell_type": "code",
   "execution_count": 1,
   "metadata": {},
   "outputs": [
    {
     "name": "stderr",
     "output_type": "stream",
     "text": [
      "/Library/Frameworks/Python.framework/Versions/3.6/lib/python3.6/site-packages/sklearn/ensemble/weight_boosting.py:29: DeprecationWarning: numpy.core.umath_tests is an internal NumPy module and should not be imported. It will be removed in a future NumPy release.\n",
      "  from numpy.core.umath_tests import inner1d\n",
      "/Library/Frameworks/Python.framework/Versions/3.6/lib/python3.6/importlib/_bootstrap.py:219: RuntimeWarning: numpy.dtype size changed, may indicate binary incompatibility. Expected 96, got 88\n",
      "  return f(*args, **kwds)\n",
      "/Library/Frameworks/Python.framework/Versions/3.6/lib/python3.6/importlib/_bootstrap.py:219: RuntimeWarning: numpy.dtype size changed, may indicate binary incompatibility. Expected 96, got 88\n",
      "  return f(*args, **kwds)\n"
     ]
    }
   ],
   "source": [
    "from sklearn import preprocessing\n",
    "from sklearn.model_selection import GridSearchCV\n",
    "from sklearn.ensemble import RandomForestClassifier\n",
    "from sklearn.ensemble import RandomForestRegressor\n",
    "\n",
    "import warnings\n",
    "import pandas as pd\n",
    "import numpy as np\n",
    "import matplotlib.pyplot as plt\n",
    "import seaborn as sns #Seaborn 套件是以 matplotlib 為基礎建構的高階繪圖套件，讓使用者更加輕鬆地建立圖表，我們可以將它視為是 matplotlib 的補強\n",
    "%matplotlib inline #這個指令可以讓圖形不會在新視窗呈現"
   ]
  },
  {
   "cell_type": "code",
   "execution_count": 3,
   "metadata": {},
   "outputs": [],
   "source": [
    "train = pd.read_csv(\"train.csv\")\n",
    "test =pd.read_csv(\"test.csv\")\n",
    "final = pd.read_csv(\"gender_submission.csv\")"
   ]
  },
  {
   "cell_type": "markdown",
   "metadata": {},
   "source": [
    "使用info()來觀察train 和test是否有空值"
   ]
  },
  {
   "cell_type": "code",
   "execution_count": 7,
   "metadata": {},
   "outputs": [
    {
     "name": "stdout",
     "output_type": "stream",
     "text": [
      "<class 'pandas.core.frame.DataFrame'>\n",
      "RangeIndex: 891 entries, 0 to 890\n",
      "Data columns (total 12 columns):\n",
      "PassengerId    891 non-null int64\n",
      "Survived       891 non-null int64\n",
      "Pclass         891 non-null int64\n",
      "Name           891 non-null object\n",
      "Sex            891 non-null object\n",
      "Age            714 non-null float64\n",
      "SibSp          891 non-null int64\n",
      "Parch          891 non-null int64\n",
      "Ticket         891 non-null object\n",
      "Fare           891 non-null float64\n",
      "Cabin          204 non-null object\n",
      "Embarked       889 non-null object\n",
      "dtypes: float64(2), int64(5), object(5)\n",
      "memory usage: 83.6+ KB\n"
     ]
    }
   ],
   "source": [
    "#train資料的Age, Cabin, Embarked有空值\n",
    "train.info()"
   ]
  },
  {
   "cell_type": "code",
   "execution_count": 9,
   "metadata": {},
   "outputs": [
    {
     "name": "stdout",
     "output_type": "stream",
     "text": [
      "<class 'pandas.core.frame.DataFrame'>\n",
      "RangeIndex: 418 entries, 0 to 417\n",
      "Data columns (total 11 columns):\n",
      "PassengerId    418 non-null int64\n",
      "Pclass         418 non-null int64\n",
      "Name           418 non-null object\n",
      "Sex            418 non-null object\n",
      "Age            332 non-null float64\n",
      "SibSp          418 non-null int64\n",
      "Parch          418 non-null int64\n",
      "Ticket         418 non-null object\n",
      "Fare           417 non-null float64\n",
      "Cabin          91 non-null object\n",
      "Embarked       418 non-null object\n",
      "dtypes: float64(2), int64(4), object(5)\n",
      "memory usage: 36.0+ KB\n"
     ]
    }
   ],
   "source": [
    "#test資料的Age, Fare, Cabin有空值\n",
    "test.info()"
   ]
  },
  {
   "cell_type": "code",
   "execution_count": 10,
   "metadata": {},
   "outputs": [
    {
     "data": {
      "text/html": [
       "<div>\n",
       "<style scoped>\n",
       "    .dataframe tbody tr th:only-of-type {\n",
       "        vertical-align: middle;\n",
       "    }\n",
       "\n",
       "    .dataframe tbody tr th {\n",
       "        vertical-align: top;\n",
       "    }\n",
       "\n",
       "    .dataframe thead th {\n",
       "        text-align: right;\n",
       "    }\n",
       "</style>\n",
       "<table border=\"1\" class=\"dataframe\">\n",
       "  <thead>\n",
       "    <tr style=\"text-align: right;\">\n",
       "      <th></th>\n",
       "      <th>PassengerId</th>\n",
       "      <th>Survived</th>\n",
       "      <th>Pclass</th>\n",
       "      <th>Age</th>\n",
       "      <th>SibSp</th>\n",
       "      <th>Parch</th>\n",
       "      <th>Fare</th>\n",
       "    </tr>\n",
       "  </thead>\n",
       "  <tbody>\n",
       "    <tr>\n",
       "      <th>count</th>\n",
       "      <td>891.000000</td>\n",
       "      <td>891.000000</td>\n",
       "      <td>891.000000</td>\n",
       "      <td>714.000000</td>\n",
       "      <td>891.000000</td>\n",
       "      <td>891.000000</td>\n",
       "      <td>891.000000</td>\n",
       "    </tr>\n",
       "    <tr>\n",
       "      <th>mean</th>\n",
       "      <td>446.000000</td>\n",
       "      <td>0.383838</td>\n",
       "      <td>2.308642</td>\n",
       "      <td>29.699118</td>\n",
       "      <td>0.523008</td>\n",
       "      <td>0.381594</td>\n",
       "      <td>32.204208</td>\n",
       "    </tr>\n",
       "    <tr>\n",
       "      <th>std</th>\n",
       "      <td>257.353842</td>\n",
       "      <td>0.486592</td>\n",
       "      <td>0.836071</td>\n",
       "      <td>14.526497</td>\n",
       "      <td>1.102743</td>\n",
       "      <td>0.806057</td>\n",
       "      <td>49.693429</td>\n",
       "    </tr>\n",
       "    <tr>\n",
       "      <th>min</th>\n",
       "      <td>1.000000</td>\n",
       "      <td>0.000000</td>\n",
       "      <td>1.000000</td>\n",
       "      <td>0.420000</td>\n",
       "      <td>0.000000</td>\n",
       "      <td>0.000000</td>\n",
       "      <td>0.000000</td>\n",
       "    </tr>\n",
       "    <tr>\n",
       "      <th>25%</th>\n",
       "      <td>223.500000</td>\n",
       "      <td>0.000000</td>\n",
       "      <td>2.000000</td>\n",
       "      <td>20.125000</td>\n",
       "      <td>0.000000</td>\n",
       "      <td>0.000000</td>\n",
       "      <td>7.910400</td>\n",
       "    </tr>\n",
       "    <tr>\n",
       "      <th>50%</th>\n",
       "      <td>446.000000</td>\n",
       "      <td>0.000000</td>\n",
       "      <td>3.000000</td>\n",
       "      <td>28.000000</td>\n",
       "      <td>0.000000</td>\n",
       "      <td>0.000000</td>\n",
       "      <td>14.454200</td>\n",
       "    </tr>\n",
       "    <tr>\n",
       "      <th>75%</th>\n",
       "      <td>668.500000</td>\n",
       "      <td>1.000000</td>\n",
       "      <td>3.000000</td>\n",
       "      <td>38.000000</td>\n",
       "      <td>1.000000</td>\n",
       "      <td>0.000000</td>\n",
       "      <td>31.000000</td>\n",
       "    </tr>\n",
       "    <tr>\n",
       "      <th>max</th>\n",
       "      <td>891.000000</td>\n",
       "      <td>1.000000</td>\n",
       "      <td>3.000000</td>\n",
       "      <td>80.000000</td>\n",
       "      <td>8.000000</td>\n",
       "      <td>6.000000</td>\n",
       "      <td>512.329200</td>\n",
       "    </tr>\n",
       "  </tbody>\n",
       "</table>\n",
       "</div>"
      ],
      "text/plain": [
       "       PassengerId    Survived      Pclass         Age       SibSp  \\\n",
       "count   891.000000  891.000000  891.000000  714.000000  891.000000   \n",
       "mean    446.000000    0.383838    2.308642   29.699118    0.523008   \n",
       "std     257.353842    0.486592    0.836071   14.526497    1.102743   \n",
       "min       1.000000    0.000000    1.000000    0.420000    0.000000   \n",
       "25%     223.500000    0.000000    2.000000   20.125000    0.000000   \n",
       "50%     446.000000    0.000000    3.000000   28.000000    0.000000   \n",
       "75%     668.500000    1.000000    3.000000   38.000000    1.000000   \n",
       "max     891.000000    1.000000    3.000000   80.000000    8.000000   \n",
       "\n",
       "            Parch        Fare  \n",
       "count  891.000000  891.000000  \n",
       "mean     0.381594   32.204208  \n",
       "std      0.806057   49.693429  \n",
       "min      0.000000    0.000000  \n",
       "25%      0.000000    7.910400  \n",
       "50%      0.000000   14.454200  \n",
       "75%      0.000000   31.000000  \n",
       "max      6.000000  512.329200  "
      ]
     },
     "execution_count": 10,
     "metadata": {},
     "output_type": "execute_result"
    }
   ],
   "source": [
    "#使用describe來觀察資料型態\n",
    "train.describe()"
   ]
  },
  {
   "cell_type": "code",
   "execution_count": 11,
   "metadata": {},
   "outputs": [
    {
     "data": {
      "text/html": [
       "<div>\n",
       "<style scoped>\n",
       "    .dataframe tbody tr th:only-of-type {\n",
       "        vertical-align: middle;\n",
       "    }\n",
       "\n",
       "    .dataframe tbody tr th {\n",
       "        vertical-align: top;\n",
       "    }\n",
       "\n",
       "    .dataframe thead th {\n",
       "        text-align: right;\n",
       "    }\n",
       "</style>\n",
       "<table border=\"1\" class=\"dataframe\">\n",
       "  <thead>\n",
       "    <tr style=\"text-align: right;\">\n",
       "      <th></th>\n",
       "      <th>PassengerId</th>\n",
       "      <th>Pclass</th>\n",
       "      <th>Age</th>\n",
       "      <th>SibSp</th>\n",
       "      <th>Parch</th>\n",
       "      <th>Fare</th>\n",
       "    </tr>\n",
       "  </thead>\n",
       "  <tbody>\n",
       "    <tr>\n",
       "      <th>count</th>\n",
       "      <td>418.000000</td>\n",
       "      <td>418.000000</td>\n",
       "      <td>332.000000</td>\n",
       "      <td>418.000000</td>\n",
       "      <td>418.000000</td>\n",
       "      <td>417.000000</td>\n",
       "    </tr>\n",
       "    <tr>\n",
       "      <th>mean</th>\n",
       "      <td>1100.500000</td>\n",
       "      <td>2.265550</td>\n",
       "      <td>30.272590</td>\n",
       "      <td>0.447368</td>\n",
       "      <td>0.392344</td>\n",
       "      <td>35.627188</td>\n",
       "    </tr>\n",
       "    <tr>\n",
       "      <th>std</th>\n",
       "      <td>120.810458</td>\n",
       "      <td>0.841838</td>\n",
       "      <td>14.181209</td>\n",
       "      <td>0.896760</td>\n",
       "      <td>0.981429</td>\n",
       "      <td>55.907576</td>\n",
       "    </tr>\n",
       "    <tr>\n",
       "      <th>min</th>\n",
       "      <td>892.000000</td>\n",
       "      <td>1.000000</td>\n",
       "      <td>0.170000</td>\n",
       "      <td>0.000000</td>\n",
       "      <td>0.000000</td>\n",
       "      <td>0.000000</td>\n",
       "    </tr>\n",
       "    <tr>\n",
       "      <th>25%</th>\n",
       "      <td>996.250000</td>\n",
       "      <td>1.000000</td>\n",
       "      <td>21.000000</td>\n",
       "      <td>0.000000</td>\n",
       "      <td>0.000000</td>\n",
       "      <td>7.895800</td>\n",
       "    </tr>\n",
       "    <tr>\n",
       "      <th>50%</th>\n",
       "      <td>1100.500000</td>\n",
       "      <td>3.000000</td>\n",
       "      <td>27.000000</td>\n",
       "      <td>0.000000</td>\n",
       "      <td>0.000000</td>\n",
       "      <td>14.454200</td>\n",
       "    </tr>\n",
       "    <tr>\n",
       "      <th>75%</th>\n",
       "      <td>1204.750000</td>\n",
       "      <td>3.000000</td>\n",
       "      <td>39.000000</td>\n",
       "      <td>1.000000</td>\n",
       "      <td>0.000000</td>\n",
       "      <td>31.500000</td>\n",
       "    </tr>\n",
       "    <tr>\n",
       "      <th>max</th>\n",
       "      <td>1309.000000</td>\n",
       "      <td>3.000000</td>\n",
       "      <td>76.000000</td>\n",
       "      <td>8.000000</td>\n",
       "      <td>9.000000</td>\n",
       "      <td>512.329200</td>\n",
       "    </tr>\n",
       "  </tbody>\n",
       "</table>\n",
       "</div>"
      ],
      "text/plain": [
       "       PassengerId      Pclass         Age       SibSp       Parch        Fare\n",
       "count   418.000000  418.000000  332.000000  418.000000  418.000000  417.000000\n",
       "mean   1100.500000    2.265550   30.272590    0.447368    0.392344   35.627188\n",
       "std     120.810458    0.841838   14.181209    0.896760    0.981429   55.907576\n",
       "min     892.000000    1.000000    0.170000    0.000000    0.000000    0.000000\n",
       "25%     996.250000    1.000000   21.000000    0.000000    0.000000    7.895800\n",
       "50%    1100.500000    3.000000   27.000000    0.000000    0.000000   14.454200\n",
       "75%    1204.750000    3.000000   39.000000    1.000000    0.000000   31.500000\n",
       "max    1309.000000    3.000000   76.000000    8.000000    9.000000  512.329200"
      ]
     },
     "execution_count": 11,
     "metadata": {},
     "output_type": "execute_result"
    }
   ],
   "source": [
    "test.describe()"
   ]
  },
  {
   "cell_type": "markdown",
   "metadata": {},
   "source": [
    "對整體資料做一些觀察，因此先將整體資料做合併"
   ]
  },
  {
   "cell_type": "code",
   "execution_count": 17,
   "metadata": {},
   "outputs": [
    {
     "name": "stderr",
     "output_type": "stream",
     "text": [
      "/Library/Frameworks/Python.framework/Versions/3.6/lib/python3.6/site-packages/pandas/core/frame.py:6211: FutureWarning: Sorting because non-concatenation axis is not aligned. A future version\n",
      "of pandas will change to not sort by default.\n",
      "\n",
      "To accept the future behavior, pass 'sort=False'.\n",
      "\n",
      "To retain the current behavior and silence the warning, pass 'sort=True'.\n",
      "\n",
      "  sort=sort)\n"
     ]
    }
   ],
   "source": [
    "data = train.append(test) #合併會造成index重複問題\n",
    "data.reset_index(inplace=True, drop= True)"
   ]
  },
  {
   "cell_type": "markdown",
   "metadata": {},
   "source": [
    "# 資料分析"
   ]
  },
  {
   "cell_type": "code",
   "execution_count": 18,
   "metadata": {},
   "outputs": [
    {
     "data": {
      "text/plain": [
       "<matplotlib.axes._subplots.AxesSubplot at 0x11af60240>"
      ]
     },
     "execution_count": 18,
     "metadata": {},
     "output_type": "execute_result"
    },
    {
     "data": {
      "image/png": "[encoded data removed]",
      "text/plain": [
       "<Figure size 432x288 with 1 Axes>"
      ]
     },
     "metadata": {
      "needs_background": "light"
     },
     "output_type": "display_data"
    }
   ],
   "source": [
    "sns.countplot(data[\"Survived\"])"
   ]
  },
  {
   "cell_type": "markdown",
   "metadata": {},
   "source": [
    "發現死亡率大概是6成，生存率大概是4成"
   ]
  },
  {
   "cell_type": "code",
   "execution_count": 22,
   "metadata": {},
   "outputs": [
    {
     "data": {
      "text/plain": [
       "<matplotlib.axes._subplots.AxesSubplot at 0x11d7039b0>"
      ]
     },
     "execution_count": 22,
     "metadata": {},
     "output_type": "execute_result"
    },
    {
     "data": {
      "image/png": "[encoded data removed]",
      "text/plain": [
       "<Figure size 432x288 with 1 Axes>"
      ]
     },
     "metadata": {
      "needs_background": "light"
     },
     "output_type": "display_data"
    }
   ],
   "source": [
    "#觀察艙等跟生存率的關係\n",
    "sns.countplot(data[\"Pclass\"],hue=data[\"Survived\"])"
   ]
  },
  {
   "cell_type": "markdown",
   "metadata": {},
   "source": [
    "發現在艙等1的生存率最高，艙等3的生存率最低<br>\n",
    "有此可推，在越高處的存活率機會越高"
   ]
  },
  {
   "cell_type": "code",
   "execution_count": 23,
   "metadata": {},
   "outputs": [
    {
     "data": {
      "text/plain": [
       "<matplotlib.axes._subplots.AxesSubplot at 0x11d106e48>"
      ]
     },
     "execution_count": 23,
     "metadata": {},
     "output_type": "execute_result"
    },
    {
     "data": {
      "image/png": "[encoded data removed]",
      "text/plain": [
       "<Figure size 432x288 with 1 Axes>"
      ]
     },
     "metadata": {
      "needs_background": "light"
     },
     "output_type": "display_data"
    }
   ],
   "source": [
    "#觀察性別跟生存率的關係\n",
    "sns.countplot(data[\"Sex\"],hue=data[\"Survived\"])"
   ]
  },
  {
   "cell_type": "markdown",
   "metadata": {},
   "source": [
    "發現在女性的生存率較高，男性的生存率較低<br>\n",
    "有此可推，救援資源應該是先禮讓給長者和女性"
   ]
  },
  {
   "cell_type": "code",
   "execution_count": 24,
   "metadata": {},
   "outputs": [
    {
     "data": {
      "text/plain": [
       "<matplotlib.axes._subplots.AxesSubplot at 0x11d881320>"
      ]
     },
     "execution_count": 24,
     "metadata": {},
     "output_type": "execute_result"
    },
    {
     "data": {
      "image/png": "[encoded data removed]",
      "text/plain": [
       "<Figure size 432x288 with 1 Axes>"
      ]
     },
     "metadata": {
      "needs_background": "light"
     },
     "output_type": "display_data"
    }
   ],
   "source": [
    "#觀察出港口跟生存率的關係\n",
    "sns.countplot(data[\"Embarked\"],hue=data[\"Survived\"])"
   ]
  },
  {
   "cell_type": "markdown",
   "metadata": {},
   "source": [
    "發現在由S城市出發的人死亡率最高<br>\n",
    "有此可推，此城市出發的人可能都買到在艙等3的位子"
   ]
  },
  {
   "cell_type": "code",
   "execution_count": 26,
   "metadata": {},
   "outputs": [
    {
     "name": "stderr",
     "output_type": "stream",
     "text": [
      "/Library/Frameworks/Python.framework/Versions/3.6/lib/python3.6/site-packages/scipy/stats/stats.py:1713: FutureWarning: Using a non-tuple sequence for multidimensional indexing is deprecated; use `arr[tuple(seq)]` instead of `arr[seq]`. In the future this will be interpreted as an array index, `arr[np.array(seq)]`, which will result either in an error or a different result.\n",
      "  return np.add.reduce(sorted[indexer] * weights, axis=axis) / sumval\n"
     ]
    },
    {
     "data": {
      "text/plain": [
       "<seaborn.axisgrid.FacetGrid at 0x11da816d8>"
      ]
     },
     "execution_count": 26,
     "metadata": {},
     "output_type": "execute_result"
    },
    {
     "data": {
      "image/png": "[encoded data removed]",
      "text/plain": [
       "<Figure size 432x216 with 2 Axes>"
      ]
     },
     "metadata": {
      "needs_background": "light"
     },
     "output_type": "display_data"
    }
   ],
   "source": [
    "g = sns.FacetGrid(data,col=\"Survived\") #Apply a plotting function to each facet’s subset of the data.\n",
    "g.map(sns.distplot,\"Age\",kde=False)"
   ]
  },
  {
   "cell_type": "markdown",
   "metadata": {},
   "source": [
    "發現在年齡越小，生存率越高<br>\n",
    "有此可推，救援先以老弱婦孺優先"
   ]
  },
  {
   "cell_type": "code",
   "execution_count": 28,
   "metadata": {},
   "outputs": [
    {
     "name": "stderr",
     "output_type": "stream",
     "text": [
      "/Library/Frameworks/Python.framework/Versions/3.6/lib/python3.6/site-packages/scipy/stats/stats.py:1713: FutureWarning: Using a non-tuple sequence for multidimensional indexing is deprecated; use `arr[tuple(seq)]` instead of `arr[seq]`. In the future this will be interpreted as an array index, `arr[np.array(seq)]`, which will result either in an error or a different result.\n",
      "  return np.add.reduce(sorted[indexer] * weights, axis=axis) / sumval\n"
     ]
    },
    {
     "data": {
      "text/plain": [
       "<seaborn.axisgrid.FacetGrid at 0x11dd32ac8>"
      ]
     },
     "execution_count": 28,
     "metadata": {},
     "output_type": "execute_result"
    },
    {
     "data": {
      "image/png": "[encoded data removed]",
      "text/plain": [
       "<Figure size 432x216 with 2 Axes>"
      ]
     },
     "metadata": {
      "needs_background": "light"
     },
     "output_type": "display_data"
    }
   ],
   "source": [
    "g = sns.FacetGrid(data,col=\"Survived\")\n",
    "g.map(sns.distplot,\"Fare\",kde=False)"
   ]
  },
  {
   "cell_type": "markdown",
   "metadata": {},
   "source": [
    "觀察票價與生存率的關係<br>\n",
    "發現購買票價越低的人，死亡人數越高"
   ]
  },
  {
   "cell_type": "code",
   "execution_count": 29,
   "metadata": {},
   "outputs": [
    {
     "name": "stderr",
     "output_type": "stream",
     "text": [
      "/Library/Frameworks/Python.framework/Versions/3.6/lib/python3.6/site-packages/scipy/stats/stats.py:1713: FutureWarning: Using a non-tuple sequence for multidimensional indexing is deprecated; use `arr[tuple(seq)]` instead of `arr[seq]`. In the future this will be interpreted as an array index, `arr[np.array(seq)]`, which will result either in an error or a different result.\n",
      "  return np.add.reduce(sorted[indexer] * weights, axis=axis) / sumval\n"
     ]
    },
    {
     "data": {
      "text/plain": [
       "<seaborn.axisgrid.FacetGrid at 0x11def5ef0>"
      ]
     },
     "execution_count": 29,
     "metadata": {},
     "output_type": "execute_result"
    },
    {
     "data": {
      "image/png": "[encoded data removed]",
      "text/plain": [
       "<Figure size 432x216 with 2 Axes>"
      ]
     },
     "metadata": {
      "needs_background": "light"
     },
     "output_type": "display_data"
    }
   ],
   "source": [
    "#觀察 父母＋小孩在一起的死亡率\n",
    "g = sns.FacetGrid(data,col=\"Survived\")\n",
    "g.map(sns.distplot,\"Parch\",kde=False)"
   ]
  },
  {
   "cell_type": "markdown",
   "metadata": {},
   "source": [
    "由此發現，父母＋小孩沒有再一起來的死亡人數較高"
   ]
  },
  {
   "cell_type": "code",
   "execution_count": 32,
   "metadata": {},
   "outputs": [
    {
     "name": "stderr",
     "output_type": "stream",
     "text": [
      "/Library/Frameworks/Python.framework/Versions/3.6/lib/python3.6/site-packages/scipy/stats/stats.py:1713: FutureWarning: Using a non-tuple sequence for multidimensional indexing is deprecated; use `arr[tuple(seq)]` instead of `arr[seq]`. In the future this will be interpreted as an array index, `arr[np.array(seq)]`, which will result either in an error or a different result.\n",
      "  return np.add.reduce(sorted[indexer] * weights, axis=axis) / sumval\n"
     ]
    },
    {
     "data": {
      "text/plain": [
       "<seaborn.axisgrid.FacetGrid at 0x11e453d68>"
      ]
     },
     "execution_count": 32,
     "metadata": {},
     "output_type": "execute_result"
    },
    {
     "data": {
      "image/png": "[encoded data removed]",
      "text/plain": [
       "<Figure size 432x216 with 2 Axes>"
      ]
     },
     "metadata": {
      "needs_background": "light"
     },
     "output_type": "display_data"
    }
   ],
   "source": [
    "#觀察 兄弟姊妹＋配偶在一起的死亡率\n",
    "g = sns.FacetGrid(data,col=\"Survived\")\n",
    "g.map(sns.distplot,\"SibSp\",kde=False)"
   ]
  },
  {
   "cell_type": "markdown",
   "metadata": {},
   "source": [
    "由此發現，兄弟姊妹＋配偶沒有再一起來的死亡人數較高"
   ]
  },
  {
   "cell_type": "markdown",
   "metadata": {},
   "source": [
    "把「父母＋小孩」和「兄弟姊妹＋配偶」變成一個新的欄位名稱，讓預測可更精準"
   ]
  },
  {
   "cell_type": "code",
   "execution_count": 35,
   "metadata": {},
   "outputs": [],
   "source": [
    "data[\"Family\"] = data[\"Parch\"]+data[\"SibSp\"]"
   ]
  },
  {
   "cell_type": "code",
   "execution_count": 36,
   "metadata": {},
   "outputs": [
    {
     "name": "stderr",
     "output_type": "stream",
     "text": [
      "/Library/Frameworks/Python.framework/Versions/3.6/lib/python3.6/site-packages/scipy/stats/stats.py:1713: FutureWarning: Using a non-tuple sequence for multidimensional indexing is deprecated; use `arr[tuple(seq)]` instead of `arr[seq]`. In the future this will be interpreted as an array index, `arr[np.array(seq)]`, which will result either in an error or a different result.\n",
      "  return np.add.reduce(sorted[indexer] * weights, axis=axis) / sumval\n"
     ]
    },
    {
     "data": {
      "text/plain": [
       "<seaborn.axisgrid.FacetGrid at 0x11e3467f0>"
      ]
     },
     "execution_count": 36,
     "metadata": {},
     "output_type": "execute_result"
    },
    {
     "data": {
      "image/png": "[encoded data removed]",
      "text/plain": [
       "<Figure size 432x216 with 2 Axes>"
      ]
     },
     "metadata": {
      "needs_background": "light"
     },
     "output_type": "display_data"
    }
   ],
   "source": [
    "g = sns.FacetGrid(data,col=\"Survived\")\n",
    "g.map(sns.distplot,\"Family\",kde=False)"
   ]
  },
  {
   "cell_type": "markdown",
   "metadata": {},
   "source": [
    "由此觀察，一個人搭乘的死亡率較高"
   ]
  },
  {
   "cell_type": "markdown",
   "metadata": {},
   "source": [
    "# 特徵工程\n",
    "從原始的數據轉換成向量的過程"
   ]
  },
  {
   "cell_type": "markdown",
   "metadata": {},
   "source": [
    "### 整理Name資料"
   ]
  },
  {
   "cell_type": "code",
   "execution_count": 62,
   "metadata": {},
   "outputs": [],
   "source": [
    "data['Title1'] = data[\"Name\"].str.split(\",\",expand=True)[1]"
   ]
  },
  {
   "cell_type": "code",
   "execution_count": 63,
   "metadata": {},
   "outputs": [
    {
     "data": {
      "text/html": [
       "<div>\n",
       "<style scoped>\n",
       "    .dataframe tbody tr th:only-of-type {\n",
       "        vertical-align: middle;\n",
       "    }\n",
       "\n",
       "    .dataframe tbody tr th {\n",
       "        vertical-align: top;\n",
       "    }\n",
       "\n",
       "    .dataframe thead th {\n",
       "        text-align: right;\n",
       "    }\n",
       "</style>\n",
       "<table border=\"1\" class=\"dataframe\">\n",
       "  <thead>\n",
       "    <tr style=\"text-align: right;\">\n",
       "      <th></th>\n",
       "      <th>0</th>\n",
       "      <th>1</th>\n",
       "    </tr>\n",
       "  </thead>\n",
       "  <tbody>\n",
       "    <tr>\n",
       "      <th>0</th>\n",
       "      <td>Braund</td>\n",
       "      <td>Mr. Owen Harris</td>\n",
       "    </tr>\n",
       "    <tr>\n",
       "      <th>1</th>\n",
       "      <td>Cumings</td>\n",
       "      <td>Mrs. John Bradley (Florence Briggs Thayer)</td>\n",
       "    </tr>\n",
       "    <tr>\n",
       "      <th>2</th>\n",
       "      <td>Heikkinen</td>\n",
       "      <td>Miss. Laina</td>\n",
       "    </tr>\n",
       "  </tbody>\n",
       "</table>\n",
       "</div>"
      ],
      "text/plain": [
       "           0                                            1\n",
       "0     Braund                              Mr. Owen Harris\n",
       "1    Cumings   Mrs. John Bradley (Florence Briggs Thayer)\n",
       "2  Heikkinen                                  Miss. Laina"
      ]
     },
     "execution_count": 63,
     "metadata": {},
     "output_type": "execute_result"
    }
   ],
   "source": [
    "data['Name'].str.split(\",\",expand=True).head(3)"
   ]
  },
  {
   "cell_type": "code",
   "execution_count": 64,
   "metadata": {},
   "outputs": [
    {
     "data": {
      "text/plain": [
       "0                                Mr. Owen Harris\n",
       "1     Mrs. John Bradley (Florence Briggs Thayer)\n",
       "2                                    Miss. Laina\n",
       "Name: Title1, dtype: object"
      ]
     },
     "execution_count": 64,
     "metadata": {},
     "output_type": "execute_result"
    }
   ],
   "source": [
    "data['Title1'].head(3)"
   ]
  },
  {
   "cell_type": "code",
   "execution_count": 67,
   "metadata": {},
   "outputs": [],
   "source": [
    "data['Title1'] = data[\"Title1\"].str.split(\".\",expand=True)[0]"
   ]
  },
  {
   "cell_type": "code",
   "execution_count": 68,
   "metadata": {},
   "outputs": [
    {
     "data": {
      "text/plain": [
       "0       Mr\n",
       "1      Mrs\n",
       "2     Miss\n",
       "Name: Title1, dtype: object"
      ]
     },
     "execution_count": 68,
     "metadata": {},
     "output_type": "execute_result"
    }
   ],
   "source": [
    "data['Title1'].head(3)"
   ]
  },
  {
   "cell_type": "code",
   "execution_count": 69,
   "metadata": {},
   "outputs": [
    {
     "data": {
      "text/plain": [
       "array([' Mr', ' Mrs', ' Miss', ' Master', ' Don', ' Rev', ' Dr', ' Mme',\n",
       "       ' Ms', ' Major', ' Lady', ' Sir', ' Mlle', ' Col', ' Capt',\n",
       "       ' the Countess', ' Jonkheer', ' Dona'], dtype=object)"
      ]
     },
     "execution_count": 69,
     "metadata": {},
     "output_type": "execute_result"
    }
   ],
   "source": [
    "data[\"Title1\"].unique()"
   ]
  },
  {
   "cell_type": "markdown",
   "metadata": {},
   "source": [
    "### 將Name對性別、生存率和年齡做分析\n",
    "根据一个或多个键对数据进行聚合，并根据行和列上得分组建将数据分配到各个矩形区域中。\n"
   ]
  },
  {
   "cell_type": "code",
   "execution_count": 71,
   "metadata": {},
   "outputs": [
    {
     "data": {
      "text/html": [
       "<style  type=\"text/css\" >\n",
       "    #T_3d33b386_bd62_11e8_a7fc_d4619d3b535crow0_col0 {\n",
       "            background-color:  #ffff66;\n",
       "        }    #T_3d33b386_bd62_11e8_a7fc_d4619d3b535crow0_col1 {\n",
       "            background-color:  #ffff66;\n",
       "        }    #T_3d33b386_bd62_11e8_a7fc_d4619d3b535crow0_col2 {\n",
       "            background-color:  #ffff66;\n",
       "        }    #T_3d33b386_bd62_11e8_a7fc_d4619d3b535crow0_col3 {\n",
       "            background-color:  #008066;\n",
       "        }    #T_3d33b386_bd62_11e8_a7fc_d4619d3b535crow0_col4 {\n",
       "            background-color:  #ffff66;\n",
       "        }    #T_3d33b386_bd62_11e8_a7fc_d4619d3b535crow0_col5 {\n",
       "            background-color:  #ffff66;\n",
       "        }    #T_3d33b386_bd62_11e8_a7fc_d4619d3b535crow0_col6 {\n",
       "            background-color:  #008066;\n",
       "        }    #T_3d33b386_bd62_11e8_a7fc_d4619d3b535crow0_col7 {\n",
       "            background-color:  #ffff66;\n",
       "        }    #T_3d33b386_bd62_11e8_a7fc_d4619d3b535crow0_col8 {\n",
       "            background-color:  #ffff66;\n",
       "        }    #T_3d33b386_bd62_11e8_a7fc_d4619d3b535crow0_col9 {\n",
       "            background-color:  #008066;\n",
       "        }    #T_3d33b386_bd62_11e8_a7fc_d4619d3b535crow0_col10 {\n",
       "            background-color:  #008066;\n",
       "        }    #T_3d33b386_bd62_11e8_a7fc_d4619d3b535crow0_col11 {\n",
       "            background-color:  #008066;\n",
       "        }    #T_3d33b386_bd62_11e8_a7fc_d4619d3b535crow0_col12 {\n",
       "            background-color:  #ffff66;\n",
       "        }    #T_3d33b386_bd62_11e8_a7fc_d4619d3b535crow0_col13 {\n",
       "            background-color:  #008066;\n",
       "        }    #T_3d33b386_bd62_11e8_a7fc_d4619d3b535crow0_col14 {\n",
       "            background-color:  #008066;\n",
       "        }    #T_3d33b386_bd62_11e8_a7fc_d4619d3b535crow0_col15 {\n",
       "            background-color:  #ffff66;\n",
       "        }    #T_3d33b386_bd62_11e8_a7fc_d4619d3b535crow0_col16 {\n",
       "            background-color:  #ffff66;\n",
       "        }    #T_3d33b386_bd62_11e8_a7fc_d4619d3b535crow0_col17 {\n",
       "            background-color:  #008066;\n",
       "        }    #T_3d33b386_bd62_11e8_a7fc_d4619d3b535crow1_col0 {\n",
       "            background-color:  #008066;\n",
       "        }    #T_3d33b386_bd62_11e8_a7fc_d4619d3b535crow1_col1 {\n",
       "            background-color:  #008066;\n",
       "        }    #T_3d33b386_bd62_11e8_a7fc_d4619d3b535crow1_col2 {\n",
       "            background-color:  #008066;\n",
       "        }    #T_3d33b386_bd62_11e8_a7fc_d4619d3b535crow1_col3 {\n",
       "            background-color:  #ffff66;\n",
       "        }    #T_3d33b386_bd62_11e8_a7fc_d4619d3b535crow1_col4 {\n",
       "            background-color:  #008066;\n",
       "        }    #T_3d33b386_bd62_11e8_a7fc_d4619d3b535crow1_col5 {\n",
       "            background-color:  #008066;\n",
       "        }    #T_3d33b386_bd62_11e8_a7fc_d4619d3b535crow1_col6 {\n",
       "            background-color:  #ffff66;\n",
       "        }    #T_3d33b386_bd62_11e8_a7fc_d4619d3b535crow1_col7 {\n",
       "            background-color:  #008066;\n",
       "        }    #T_3d33b386_bd62_11e8_a7fc_d4619d3b535crow1_col8 {\n",
       "            background-color:  #008066;\n",
       "        }    #T_3d33b386_bd62_11e8_a7fc_d4619d3b535crow1_col9 {\n",
       "            background-color:  #ffff66;\n",
       "        }    #T_3d33b386_bd62_11e8_a7fc_d4619d3b535crow1_col10 {\n",
       "            background-color:  #ffff66;\n",
       "        }    #T_3d33b386_bd62_11e8_a7fc_d4619d3b535crow1_col11 {\n",
       "            background-color:  #ffff66;\n",
       "        }    #T_3d33b386_bd62_11e8_a7fc_d4619d3b535crow1_col12 {\n",
       "            background-color:  #008066;\n",
       "        }    #T_3d33b386_bd62_11e8_a7fc_d4619d3b535crow1_col13 {\n",
       "            background-color:  #ffff66;\n",
       "        }    #T_3d33b386_bd62_11e8_a7fc_d4619d3b535crow1_col14 {\n",
       "            background-color:  #ffff66;\n",
       "        }    #T_3d33b386_bd62_11e8_a7fc_d4619d3b535crow1_col15 {\n",
       "            background-color:  #008066;\n",
       "        }    #T_3d33b386_bd62_11e8_a7fc_d4619d3b535crow1_col16 {\n",
       "            background-color:  #008066;\n",
       "        }    #T_3d33b386_bd62_11e8_a7fc_d4619d3b535crow1_col17 {\n",
       "            background-color:  #ffff66;\n",
       "        }</style>  \n",
       "<table id=\"T_3d33b386_bd62_11e8_a7fc_d4619d3b535c\" > \n",
       "<thead>    <tr> \n",
       "        <th class=\"index_name level0\" >Title1</th> \n",
       "        <th class=\"col_heading level0 col0\" > Capt</th> \n",
       "        <th class=\"col_heading level0 col1\" > Col</th> \n",
       "        <th class=\"col_heading level0 col2\" > Don</th> \n",
       "        <th class=\"col_heading level0 col3\" > Dona</th> \n",
       "        <th class=\"col_heading level0 col4\" > Dr</th> \n",
       "        <th class=\"col_heading level0 col5\" > Jonkheer</th> \n",
       "        <th class=\"col_heading level0 col6\" > Lady</th> \n",
       "        <th class=\"col_heading level0 col7\" > Major</th> \n",
       "        <th class=\"col_heading level0 col8\" > Master</th> \n",
       "        <th class=\"col_heading level0 col9\" > Miss</th> \n",
       "        <th class=\"col_heading level0 col10\" > Mlle</th> \n",
       "        <th class=\"col_heading level0 col11\" > Mme</th> \n",
       "        <th class=\"col_heading level0 col12\" > Mr</th> \n",
       "        <th class=\"col_heading level0 col13\" > Mrs</th> \n",
       "        <th class=\"col_heading level0 col14\" > Ms</th> \n",
       "        <th class=\"col_heading level0 col15\" > Rev</th> \n",
       "        <th class=\"col_heading level0 col16\" > Sir</th> \n",
       "        <th class=\"col_heading level0 col17\" > the Countess</th> \n",
       "    </tr>    <tr> \n",
       "        <th class=\"index_name level0\" >Sex</th> \n",
       "        <th class=\"blank\" ></th> \n",
       "        <th class=\"blank\" ></th> \n",
       "        <th class=\"blank\" ></th> \n",
       "        <th class=\"blank\" ></th> \n",
       "        <th class=\"blank\" ></th> \n",
       "        <th class=\"blank\" ></th> \n",
       "        <th class=\"blank\" ></th> \n",
       "        <th class=\"blank\" ></th> \n",
       "        <th class=\"blank\" ></th> \n",
       "        <th class=\"blank\" ></th> \n",
       "        <th class=\"blank\" ></th> \n",
       "        <th class=\"blank\" ></th> \n",
       "        <th class=\"blank\" ></th> \n",
       "        <th class=\"blank\" ></th> \n",
       "        <th class=\"blank\" ></th> \n",
       "        <th class=\"blank\" ></th> \n",
       "        <th class=\"blank\" ></th> \n",
       "        <th class=\"blank\" ></th> \n",
       "    </tr></thead> \n",
       "<tbody>    <tr> \n",
       "        <th id=\"T_3d33b386_bd62_11e8_a7fc_d4619d3b535clevel0_row0\" class=\"row_heading level0 row0\" >female</th> \n",
       "        <td id=\"T_3d33b386_bd62_11e8_a7fc_d4619d3b535crow0_col0\" class=\"data row0 col0\" >0</td> \n",
       "        <td id=\"T_3d33b386_bd62_11e8_a7fc_d4619d3b535crow0_col1\" class=\"data row0 col1\" >0</td> \n",
       "        <td id=\"T_3d33b386_bd62_11e8_a7fc_d4619d3b535crow0_col2\" class=\"data row0 col2\" >0</td> \n",
       "        <td id=\"T_3d33b386_bd62_11e8_a7fc_d4619d3b535crow0_col3\" class=\"data row0 col3\" >1</td> \n",
       "        <td id=\"T_3d33b386_bd62_11e8_a7fc_d4619d3b535crow0_col4\" class=\"data row0 col4\" >1</td> \n",
       "        <td id=\"T_3d33b386_bd62_11e8_a7fc_d4619d3b535crow0_col5\" class=\"data row0 col5\" >0</td> \n",
       "        <td id=\"T_3d33b386_bd62_11e8_a7fc_d4619d3b535crow0_col6\" class=\"data row0 col6\" >1</td> \n",
       "        <td id=\"T_3d33b386_bd62_11e8_a7fc_d4619d3b535crow0_col7\" class=\"data row0 col7\" >0</td> \n",
       "        <td id=\"T_3d33b386_bd62_11e8_a7fc_d4619d3b535crow0_col8\" class=\"data row0 col8\" >0</td> \n",
       "        <td id=\"T_3d33b386_bd62_11e8_a7fc_d4619d3b535crow0_col9\" class=\"data row0 col9\" >260</td> \n",
       "        <td id=\"T_3d33b386_bd62_11e8_a7fc_d4619d3b535crow0_col10\" class=\"data row0 col10\" >2</td> \n",
       "        <td id=\"T_3d33b386_bd62_11e8_a7fc_d4619d3b535crow0_col11\" class=\"data row0 col11\" >1</td> \n",
       "        <td id=\"T_3d33b386_bd62_11e8_a7fc_d4619d3b535crow0_col12\" class=\"data row0 col12\" >0</td> \n",
       "        <td id=\"T_3d33b386_bd62_11e8_a7fc_d4619d3b535crow0_col13\" class=\"data row0 col13\" >197</td> \n",
       "        <td id=\"T_3d33b386_bd62_11e8_a7fc_d4619d3b535crow0_col14\" class=\"data row0 col14\" >2</td> \n",
       "        <td id=\"T_3d33b386_bd62_11e8_a7fc_d4619d3b535crow0_col15\" class=\"data row0 col15\" >0</td> \n",
       "        <td id=\"T_3d33b386_bd62_11e8_a7fc_d4619d3b535crow0_col16\" class=\"data row0 col16\" >0</td> \n",
       "        <td id=\"T_3d33b386_bd62_11e8_a7fc_d4619d3b535crow0_col17\" class=\"data row0 col17\" >1</td> \n",
       "    </tr>    <tr> \n",
       "        <th id=\"T_3d33b386_bd62_11e8_a7fc_d4619d3b535clevel0_row1\" class=\"row_heading level0 row1\" >male</th> \n",
       "        <td id=\"T_3d33b386_bd62_11e8_a7fc_d4619d3b535crow1_col0\" class=\"data row1 col0\" >1</td> \n",
       "        <td id=\"T_3d33b386_bd62_11e8_a7fc_d4619d3b535crow1_col1\" class=\"data row1 col1\" >4</td> \n",
       "        <td id=\"T_3d33b386_bd62_11e8_a7fc_d4619d3b535crow1_col2\" class=\"data row1 col2\" >1</td> \n",
       "        <td id=\"T_3d33b386_bd62_11e8_a7fc_d4619d3b535crow1_col3\" class=\"data row1 col3\" >0</td> \n",
       "        <td id=\"T_3d33b386_bd62_11e8_a7fc_d4619d3b535crow1_col4\" class=\"data row1 col4\" >7</td> \n",
       "        <td id=\"T_3d33b386_bd62_11e8_a7fc_d4619d3b535crow1_col5\" class=\"data row1 col5\" >1</td> \n",
       "        <td id=\"T_3d33b386_bd62_11e8_a7fc_d4619d3b535crow1_col6\" class=\"data row1 col6\" >0</td> \n",
       "        <td id=\"T_3d33b386_bd62_11e8_a7fc_d4619d3b535crow1_col7\" class=\"data row1 col7\" >2</td> \n",
       "        <td id=\"T_3d33b386_bd62_11e8_a7fc_d4619d3b535crow1_col8\" class=\"data row1 col8\" >61</td> \n",
       "        <td id=\"T_3d33b386_bd62_11e8_a7fc_d4619d3b535crow1_col9\" class=\"data row1 col9\" >0</td> \n",
       "        <td id=\"T_3d33b386_bd62_11e8_a7fc_d4619d3b535crow1_col10\" class=\"data row1 col10\" >0</td> \n",
       "        <td id=\"T_3d33b386_bd62_11e8_a7fc_d4619d3b535crow1_col11\" class=\"data row1 col11\" >0</td> \n",
       "        <td id=\"T_3d33b386_bd62_11e8_a7fc_d4619d3b535crow1_col12\" class=\"data row1 col12\" >757</td> \n",
       "        <td id=\"T_3d33b386_bd62_11e8_a7fc_d4619d3b535crow1_col13\" class=\"data row1 col13\" >0</td> \n",
       "        <td id=\"T_3d33b386_bd62_11e8_a7fc_d4619d3b535crow1_col14\" class=\"data row1 col14\" >0</td> \n",
       "        <td id=\"T_3d33b386_bd62_11e8_a7fc_d4619d3b535crow1_col15\" class=\"data row1 col15\" >8</td> \n",
       "        <td id=\"T_3d33b386_bd62_11e8_a7fc_d4619d3b535crow1_col16\" class=\"data row1 col16\" >1</td> \n",
       "        <td id=\"T_3d33b386_bd62_11e8_a7fc_d4619d3b535crow1_col17\" class=\"data row1 col17\" >0</td> \n",
       "    </tr></tbody> \n",
       "</table> "
      ],
      "text/plain": [
       "<pandas.io.formats.style.Styler at 0x11eae0d68>"
      ]
     },
     "execution_count": 71,
     "metadata": {},
     "output_type": "execute_result"
    }
   ],
   "source": [
    "pd.crosstab(data[\"Title1\"],data[\"Sex\"]).T.style.background_gradient(cmap=\"summer_r\")"
   ]
  },
  {
   "cell_type": "code",
   "execution_count": 72,
   "metadata": {},
   "outputs": [
    {
     "data": {
      "text/html": [
       "<style  type=\"text/css\" >\n",
       "    #T_cf79eee2_bd62_11e8_aeea_d4619d3b535crow0_col0 {\n",
       "            background-color:  #008066;\n",
       "        }    #T_cf79eee2_bd62_11e8_aeea_d4619d3b535crow0_col1 {\n",
       "            background-color:  #ffff66;\n",
       "        }    #T_cf79eee2_bd62_11e8_aeea_d4619d3b535crow0_col2 {\n",
       "            background-color:  #008066;\n",
       "        }    #T_cf79eee2_bd62_11e8_aeea_d4619d3b535crow0_col3 {\n",
       "            background-color:  #008066;\n",
       "        }    #T_cf79eee2_bd62_11e8_aeea_d4619d3b535crow0_col4 {\n",
       "            background-color:  #008066;\n",
       "        }    #T_cf79eee2_bd62_11e8_aeea_d4619d3b535crow0_col5 {\n",
       "            background-color:  #ffff66;\n",
       "        }    #T_cf79eee2_bd62_11e8_aeea_d4619d3b535crow0_col6 {\n",
       "            background-color:  #ffff66;\n",
       "        }    #T_cf79eee2_bd62_11e8_aeea_d4619d3b535crow0_col7 {\n",
       "            background-color:  #ffff66;\n",
       "        }    #T_cf79eee2_bd62_11e8_aeea_d4619d3b535crow0_col8 {\n",
       "            background-color:  #ffff66;\n",
       "        }    #T_cf79eee2_bd62_11e8_aeea_d4619d3b535crow0_col9 {\n",
       "            background-color:  #ffff66;\n",
       "        }    #T_cf79eee2_bd62_11e8_aeea_d4619d3b535crow0_col10 {\n",
       "            background-color:  #ffff66;\n",
       "        }    #T_cf79eee2_bd62_11e8_aeea_d4619d3b535crow0_col11 {\n",
       "            background-color:  #008066;\n",
       "        }    #T_cf79eee2_bd62_11e8_aeea_d4619d3b535crow0_col12 {\n",
       "            background-color:  #ffff66;\n",
       "        }    #T_cf79eee2_bd62_11e8_aeea_d4619d3b535crow0_col13 {\n",
       "            background-color:  #ffff66;\n",
       "        }    #T_cf79eee2_bd62_11e8_aeea_d4619d3b535crow0_col14 {\n",
       "            background-color:  #008066;\n",
       "        }    #T_cf79eee2_bd62_11e8_aeea_d4619d3b535crow0_col15 {\n",
       "            background-color:  #ffff66;\n",
       "        }    #T_cf79eee2_bd62_11e8_aeea_d4619d3b535crow0_col16 {\n",
       "            background-color:  #ffff66;\n",
       "        }    #T_cf79eee2_bd62_11e8_aeea_d4619d3b535crow1_col0 {\n",
       "            background-color:  #ffff66;\n",
       "        }    #T_cf79eee2_bd62_11e8_aeea_d4619d3b535crow1_col1 {\n",
       "            background-color:  #ffff66;\n",
       "        }    #T_cf79eee2_bd62_11e8_aeea_d4619d3b535crow1_col2 {\n",
       "            background-color:  #ffff66;\n",
       "        }    #T_cf79eee2_bd62_11e8_aeea_d4619d3b535crow1_col3 {\n",
       "            background-color:  #ffff66;\n",
       "        }    #T_cf79eee2_bd62_11e8_aeea_d4619d3b535crow1_col4 {\n",
       "            background-color:  #ffff66;\n",
       "        }    #T_cf79eee2_bd62_11e8_aeea_d4619d3b535crow1_col5 {\n",
       "            background-color:  #008066;\n",
       "        }    #T_cf79eee2_bd62_11e8_aeea_d4619d3b535crow1_col6 {\n",
       "            background-color:  #ffff66;\n",
       "        }    #T_cf79eee2_bd62_11e8_aeea_d4619d3b535crow1_col7 {\n",
       "            background-color:  #008066;\n",
       "        }    #T_cf79eee2_bd62_11e8_aeea_d4619d3b535crow1_col8 {\n",
       "            background-color:  #008066;\n",
       "        }    #T_cf79eee2_bd62_11e8_aeea_d4619d3b535crow1_col9 {\n",
       "            background-color:  #008066;\n",
       "        }    #T_cf79eee2_bd62_11e8_aeea_d4619d3b535crow1_col10 {\n",
       "            background-color:  #008066;\n",
       "        }    #T_cf79eee2_bd62_11e8_aeea_d4619d3b535crow1_col11 {\n",
       "            background-color:  #ffff66;\n",
       "        }    #T_cf79eee2_bd62_11e8_aeea_d4619d3b535crow1_col12 {\n",
       "            background-color:  #008066;\n",
       "        }    #T_cf79eee2_bd62_11e8_aeea_d4619d3b535crow1_col13 {\n",
       "            background-color:  #008066;\n",
       "        }    #T_cf79eee2_bd62_11e8_aeea_d4619d3b535crow1_col14 {\n",
       "            background-color:  #ffff66;\n",
       "        }    #T_cf79eee2_bd62_11e8_aeea_d4619d3b535crow1_col15 {\n",
       "            background-color:  #008066;\n",
       "        }    #T_cf79eee2_bd62_11e8_aeea_d4619d3b535crow1_col16 {\n",
       "            background-color:  #008066;\n",
       "        }</style>  \n",
       "<table id=\"T_cf79eee2_bd62_11e8_aeea_d4619d3b535c\" > \n",
       "<thead>    <tr> \n",
       "        <th class=\"index_name level0\" >Title1</th> \n",
       "        <th class=\"col_heading level0 col0\" > Capt</th> \n",
       "        <th class=\"col_heading level0 col1\" > Col</th> \n",
       "        <th class=\"col_heading level0 col2\" > Don</th> \n",
       "        <th class=\"col_heading level0 col3\" > Dr</th> \n",
       "        <th class=\"col_heading level0 col4\" > Jonkheer</th> \n",
       "        <th class=\"col_heading level0 col5\" > Lady</th> \n",
       "        <th class=\"col_heading level0 col6\" > Major</th> \n",
       "        <th class=\"col_heading level0 col7\" > Master</th> \n",
       "        <th class=\"col_heading level0 col8\" > Miss</th> \n",
       "        <th class=\"col_heading level0 col9\" > Mlle</th> \n",
       "        <th class=\"col_heading level0 col10\" > Mme</th> \n",
       "        <th class=\"col_heading level0 col11\" > Mr</th> \n",
       "        <th class=\"col_heading level0 col12\" > Mrs</th> \n",
       "        <th class=\"col_heading level0 col13\" > Ms</th> \n",
       "        <th class=\"col_heading level0 col14\" > Rev</th> \n",
       "        <th class=\"col_heading level0 col15\" > Sir</th> \n",
       "        <th class=\"col_heading level0 col16\" > the Countess</th> \n",
       "    </tr>    <tr> \n",
       "        <th class=\"index_name level0\" >Survived</th> \n",
       "        <th class=\"blank\" ></th> \n",
       "        <th class=\"blank\" ></th> \n",
       "        <th class=\"blank\" ></th> \n",
       "        <th class=\"blank\" ></th> \n",
       "        <th class=\"blank\" ></th> \n",
       "        <th class=\"blank\" ></th> \n",
       "        <th class=\"blank\" ></th> \n",
       "        <th class=\"blank\" ></th> \n",
       "        <th class=\"blank\" ></th> \n",
       "        <th class=\"blank\" ></th> \n",
       "        <th class=\"blank\" ></th> \n",
       "        <th class=\"blank\" ></th> \n",
       "        <th class=\"blank\" ></th> \n",
       "        <th class=\"blank\" ></th> \n",
       "        <th class=\"blank\" ></th> \n",
       "        <th class=\"blank\" ></th> \n",
       "        <th class=\"blank\" ></th> \n",
       "    </tr></thead> \n",
       "<tbody>    <tr> \n",
       "        <th id=\"T_cf79eee2_bd62_11e8_aeea_d4619d3b535clevel0_row0\" class=\"row_heading level0 row0\" >0.0</th> \n",
       "        <td id=\"T_cf79eee2_bd62_11e8_aeea_d4619d3b535crow0_col0\" class=\"data row0 col0\" >1</td> \n",
       "        <td id=\"T_cf79eee2_bd62_11e8_aeea_d4619d3b535crow0_col1\" class=\"data row0 col1\" >1</td> \n",
       "        <td id=\"T_cf79eee2_bd62_11e8_aeea_d4619d3b535crow0_col2\" class=\"data row0 col2\" >1</td> \n",
       "        <td id=\"T_cf79eee2_bd62_11e8_aeea_d4619d3b535crow0_col3\" class=\"data row0 col3\" >4</td> \n",
       "        <td id=\"T_cf79eee2_bd62_11e8_aeea_d4619d3b535crow0_col4\" class=\"data row0 col4\" >1</td> \n",
       "        <td id=\"T_cf79eee2_bd62_11e8_aeea_d4619d3b535crow0_col5\" class=\"data row0 col5\" >0</td> \n",
       "        <td id=\"T_cf79eee2_bd62_11e8_aeea_d4619d3b535crow0_col6\" class=\"data row0 col6\" >1</td> \n",
       "        <td id=\"T_cf79eee2_bd62_11e8_aeea_d4619d3b535crow0_col7\" class=\"data row0 col7\" >17</td> \n",
       "        <td id=\"T_cf79eee2_bd62_11e8_aeea_d4619d3b535crow0_col8\" class=\"data row0 col8\" >55</td> \n",
       "        <td id=\"T_cf79eee2_bd62_11e8_aeea_d4619d3b535crow0_col9\" class=\"data row0 col9\" >0</td> \n",
       "        <td id=\"T_cf79eee2_bd62_11e8_aeea_d4619d3b535crow0_col10\" class=\"data row0 col10\" >0</td> \n",
       "        <td id=\"T_cf79eee2_bd62_11e8_aeea_d4619d3b535crow0_col11\" class=\"data row0 col11\" >436</td> \n",
       "        <td id=\"T_cf79eee2_bd62_11e8_aeea_d4619d3b535crow0_col12\" class=\"data row0 col12\" >26</td> \n",
       "        <td id=\"T_cf79eee2_bd62_11e8_aeea_d4619d3b535crow0_col13\" class=\"data row0 col13\" >0</td> \n",
       "        <td id=\"T_cf79eee2_bd62_11e8_aeea_d4619d3b535crow0_col14\" class=\"data row0 col14\" >6</td> \n",
       "        <td id=\"T_cf79eee2_bd62_11e8_aeea_d4619d3b535crow0_col15\" class=\"data row0 col15\" >0</td> \n",
       "        <td id=\"T_cf79eee2_bd62_11e8_aeea_d4619d3b535crow0_col16\" class=\"data row0 col16\" >0</td> \n",
       "    </tr>    <tr> \n",
       "        <th id=\"T_cf79eee2_bd62_11e8_aeea_d4619d3b535clevel0_row1\" class=\"row_heading level0 row1\" >1.0</th> \n",
       "        <td id=\"T_cf79eee2_bd62_11e8_aeea_d4619d3b535crow1_col0\" class=\"data row1 col0\" >0</td> \n",
       "        <td id=\"T_cf79eee2_bd62_11e8_aeea_d4619d3b535crow1_col1\" class=\"data row1 col1\" >1</td> \n",
       "        <td id=\"T_cf79eee2_bd62_11e8_aeea_d4619d3b535crow1_col2\" class=\"data row1 col2\" >0</td> \n",
       "        <td id=\"T_cf79eee2_bd62_11e8_aeea_d4619d3b535crow1_col3\" class=\"data row1 col3\" >3</td> \n",
       "        <td id=\"T_cf79eee2_bd62_11e8_aeea_d4619d3b535crow1_col4\" class=\"data row1 col4\" >0</td> \n",
       "        <td id=\"T_cf79eee2_bd62_11e8_aeea_d4619d3b535crow1_col5\" class=\"data row1 col5\" >1</td> \n",
       "        <td id=\"T_cf79eee2_bd62_11e8_aeea_d4619d3b535crow1_col6\" class=\"data row1 col6\" >1</td> \n",
       "        <td id=\"T_cf79eee2_bd62_11e8_aeea_d4619d3b535crow1_col7\" class=\"data row1 col7\" >23</td> \n",
       "        <td id=\"T_cf79eee2_bd62_11e8_aeea_d4619d3b535crow1_col8\" class=\"data row1 col8\" >127</td> \n",
       "        <td id=\"T_cf79eee2_bd62_11e8_aeea_d4619d3b535crow1_col9\" class=\"data row1 col9\" >2</td> \n",
       "        <td id=\"T_cf79eee2_bd62_11e8_aeea_d4619d3b535crow1_col10\" class=\"data row1 col10\" >1</td> \n",
       "        <td id=\"T_cf79eee2_bd62_11e8_aeea_d4619d3b535crow1_col11\" class=\"data row1 col11\" >81</td> \n",
       "        <td id=\"T_cf79eee2_bd62_11e8_aeea_d4619d3b535crow1_col12\" class=\"data row1 col12\" >99</td> \n",
       "        <td id=\"T_cf79eee2_bd62_11e8_aeea_d4619d3b535crow1_col13\" class=\"data row1 col13\" >1</td> \n",
       "        <td id=\"T_cf79eee2_bd62_11e8_aeea_d4619d3b535crow1_col14\" class=\"data row1 col14\" >0</td> \n",
       "        <td id=\"T_cf79eee2_bd62_11e8_aeea_d4619d3b535crow1_col15\" class=\"data row1 col15\" >1</td> \n",
       "        <td id=\"T_cf79eee2_bd62_11e8_aeea_d4619d3b535crow1_col16\" class=\"data row1 col16\" >1</td> \n",
       "    </tr></tbody> \n",
       "</table> "
      ],
      "text/plain": [
       "<pandas.io.formats.style.Styler at 0x11ef39c50>"
      ]
     },
     "execution_count": 72,
     "metadata": {},
     "output_type": "execute_result"
    }
   ],
   "source": [
    "pd.crosstab(data[\"Title1\"],data[\"Survived\"]).T.style.background_gradient(cmap=\"summer_r\")"
   ]
  },
  {
   "cell_type": "code",
   "execution_count": 75,
   "metadata": {},
   "outputs": [
    {
     "data": {
      "text/plain": [
       "Title1\n",
       " Capt            70.000000\n",
       " Col             54.000000\n",
       " Don             40.000000\n",
       " Dona            39.000000\n",
       " Dr              43.571429\n",
       " Jonkheer        38.000000\n",
       " Lady            48.000000\n",
       " Major           48.500000\n",
       " Master           5.482642\n",
       " Miss            21.774238\n",
       " Mlle            24.000000\n",
       " Mme             24.000000\n",
       " Mr              32.252151\n",
       " Mrs             36.994118\n",
       " Ms              28.000000\n",
       " Rev             41.250000\n",
       " Sir             49.000000\n",
       " the Countess    33.000000\n",
       "Name: Age, dtype: float64"
      ]
     },
     "execution_count": 75,
     "metadata": {},
     "output_type": "execute_result"
    }
   ],
   "source": [
    "data.groupby([\"Title1\"])[\"Age\"].mean()"
   ]
  },
  {
   "cell_type": "markdown",
   "metadata": {},
   "source": [
    "### 以下發現狀況\n",
    "1.Master平均年齡為5歲，生存率達6成<br>\n",
    "2.有些稱謂的乘客為極少數→若只將這些極少數的乘客做機器學習模型會非常不好，因此把其中一些稱為合併"
   ]
  },
  {
   "cell_type": "code",
   "execution_count": 90,
   "metadata": {},
   "outputs": [],
   "source": [
    "data[\"Title2\"] = data[\"Title1\"].replace([' Capt',' Col',' Don',' Dona',' Dr',' Jonkheer',' Lady',' Major',\" Mlle\",' Mme',' Rev',' Sir',' the Countess',\" Ms\"],[' Mr',' Mr',' Mr',' Mr',' Mr',' Mr',' Miss',' Mr',' Mrs',\" Mrs\",' Mr',' Mr',' Mr',' Miss'])\n"
   ]
  },
  {
   "cell_type": "code",
   "execution_count": 91,
   "metadata": {},
   "outputs": [
    {
     "data": {
      "text/plain": [
       "array([' Mr', ' Mrs', ' Miss', ' Master'], dtype=object)"
      ]
     },
     "execution_count": 91,
     "metadata": {},
     "output_type": "execute_result"
    }
   ],
   "source": [
    "data['Title2'].unique()"
   ]
  },
  {
   "cell_type": "code",
   "execution_count": 92,
   "metadata": {},
   "outputs": [
    {
     "data": {
      "text/html": [
       "<style  type=\"text/css\" >\n",
       "    #T_1b7bc8a8_bd67_11e8_a3f6_d4619d3b535crow0_col0 {\n",
       "            background-color:  #ffff66;\n",
       "        }    #T_1b7bc8a8_bd67_11e8_a3f6_d4619d3b535crow0_col1 {\n",
       "            background-color:  #008066;\n",
       "        }    #T_1b7bc8a8_bd67_11e8_a3f6_d4619d3b535crow0_col2 {\n",
       "            background-color:  #ffff66;\n",
       "        }    #T_1b7bc8a8_bd67_11e8_a3f6_d4619d3b535crow0_col3 {\n",
       "            background-color:  #008066;\n",
       "        }    #T_1b7bc8a8_bd67_11e8_a3f6_d4619d3b535crow1_col0 {\n",
       "            background-color:  #008066;\n",
       "        }    #T_1b7bc8a8_bd67_11e8_a3f6_d4619d3b535crow1_col1 {\n",
       "            background-color:  #ffff66;\n",
       "        }    #T_1b7bc8a8_bd67_11e8_a3f6_d4619d3b535crow1_col2 {\n",
       "            background-color:  #008066;\n",
       "        }    #T_1b7bc8a8_bd67_11e8_a3f6_d4619d3b535crow1_col3 {\n",
       "            background-color:  #ffff66;\n",
       "        }</style>  \n",
       "<table id=\"T_1b7bc8a8_bd67_11e8_a3f6_d4619d3b535c\" > \n",
       "<thead>    <tr> \n",
       "        <th class=\"index_name level0\" >Title2</th> \n",
       "        <th class=\"col_heading level0 col0\" > Master</th> \n",
       "        <th class=\"col_heading level0 col1\" > Miss</th> \n",
       "        <th class=\"col_heading level0 col2\" > Mr</th> \n",
       "        <th class=\"col_heading level0 col3\" > Mrs</th> \n",
       "    </tr>    <tr> \n",
       "        <th class=\"index_name level0\" >Sex</th> \n",
       "        <th class=\"blank\" ></th> \n",
       "        <th class=\"blank\" ></th> \n",
       "        <th class=\"blank\" ></th> \n",
       "        <th class=\"blank\" ></th> \n",
       "    </tr></thead> \n",
       "<tbody>    <tr> \n",
       "        <th id=\"T_1b7bc8a8_bd67_11e8_a3f6_d4619d3b535clevel0_row0\" class=\"row_heading level0 row0\" >female</th> \n",
       "        <td id=\"T_1b7bc8a8_bd67_11e8_a3f6_d4619d3b535crow0_col0\" class=\"data row0 col0\" >0</td> \n",
       "        <td id=\"T_1b7bc8a8_bd67_11e8_a3f6_d4619d3b535crow0_col1\" class=\"data row0 col1\" >263</td> \n",
       "        <td id=\"T_1b7bc8a8_bd67_11e8_a3f6_d4619d3b535crow0_col2\" class=\"data row0 col2\" >3</td> \n",
       "        <td id=\"T_1b7bc8a8_bd67_11e8_a3f6_d4619d3b535crow0_col3\" class=\"data row0 col3\" >200</td> \n",
       "    </tr>    <tr> \n",
       "        <th id=\"T_1b7bc8a8_bd67_11e8_a3f6_d4619d3b535clevel0_row1\" class=\"row_heading level0 row1\" >male</th> \n",
       "        <td id=\"T_1b7bc8a8_bd67_11e8_a3f6_d4619d3b535crow1_col0\" class=\"data row1 col0\" >61</td> \n",
       "        <td id=\"T_1b7bc8a8_bd67_11e8_a3f6_d4619d3b535crow1_col1\" class=\"data row1 col1\" >0</td> \n",
       "        <td id=\"T_1b7bc8a8_bd67_11e8_a3f6_d4619d3b535crow1_col2\" class=\"data row1 col2\" >782</td> \n",
       "        <td id=\"T_1b7bc8a8_bd67_11e8_a3f6_d4619d3b535crow1_col3\" class=\"data row1 col3\" >0</td> \n",
       "    </tr></tbody> \n",
       "</table> "
      ],
      "text/plain": [
       "<pandas.io.formats.style.Styler at 0x11ef8ef60>"
      ]
     },
     "execution_count": 92,
     "metadata": {},
     "output_type": "execute_result"
    }
   ],
   "source": [
    "pd.crosstab(data[\"Title2\"],data[\"Sex\"]).T.style.background_gradient(cmap=\"summer_r\")"
   ]
  },
  {
   "cell_type": "code",
   "execution_count": 93,
   "metadata": {},
   "outputs": [
    {
     "data": {
      "text/html": [
       "<style  type=\"text/css\" >\n",
       "    #T_25bcd854_bd67_11e8_81f3_d4619d3b535crow0_col0 {\n",
       "            background-color:  #ffff66;\n",
       "        }    #T_25bcd854_bd67_11e8_81f3_d4619d3b535crow0_col1 {\n",
       "            background-color:  #ffff66;\n",
       "        }    #T_25bcd854_bd67_11e8_81f3_d4619d3b535crow0_col2 {\n",
       "            background-color:  #008066;\n",
       "        }    #T_25bcd854_bd67_11e8_81f3_d4619d3b535crow0_col3 {\n",
       "            background-color:  #ffff66;\n",
       "        }    #T_25bcd854_bd67_11e8_81f3_d4619d3b535crow1_col0 {\n",
       "            background-color:  #008066;\n",
       "        }    #T_25bcd854_bd67_11e8_81f3_d4619d3b535crow1_col1 {\n",
       "            background-color:  #008066;\n",
       "        }    #T_25bcd854_bd67_11e8_81f3_d4619d3b535crow1_col2 {\n",
       "            background-color:  #ffff66;\n",
       "        }    #T_25bcd854_bd67_11e8_81f3_d4619d3b535crow1_col3 {\n",
       "            background-color:  #008066;\n",
       "        }</style>  \n",
       "<table id=\"T_25bcd854_bd67_11e8_81f3_d4619d3b535c\" > \n",
       "<thead>    <tr> \n",
       "        <th class=\"index_name level0\" >Title2</th> \n",
       "        <th class=\"col_heading level0 col0\" > Master</th> \n",
       "        <th class=\"col_heading level0 col1\" > Miss</th> \n",
       "        <th class=\"col_heading level0 col2\" > Mr</th> \n",
       "        <th class=\"col_heading level0 col3\" > Mrs</th> \n",
       "    </tr>    <tr> \n",
       "        <th class=\"index_name level0\" >Survived</th> \n",
       "        <th class=\"blank\" ></th> \n",
       "        <th class=\"blank\" ></th> \n",
       "        <th class=\"blank\" ></th> \n",
       "        <th class=\"blank\" ></th> \n",
       "    </tr></thead> \n",
       "<tbody>    <tr> \n",
       "        <th id=\"T_25bcd854_bd67_11e8_81f3_d4619d3b535clevel0_row0\" class=\"row_heading level0 row0\" >0.0</th> \n",
       "        <td id=\"T_25bcd854_bd67_11e8_81f3_d4619d3b535crow0_col0\" class=\"data row0 col0\" >17</td> \n",
       "        <td id=\"T_25bcd854_bd67_11e8_81f3_d4619d3b535crow0_col1\" class=\"data row0 col1\" >55</td> \n",
       "        <td id=\"T_25bcd854_bd67_11e8_81f3_d4619d3b535crow0_col2\" class=\"data row0 col2\" >451</td> \n",
       "        <td id=\"T_25bcd854_bd67_11e8_81f3_d4619d3b535crow0_col3\" class=\"data row0 col3\" >26</td> \n",
       "    </tr>    <tr> \n",
       "        <th id=\"T_25bcd854_bd67_11e8_81f3_d4619d3b535clevel0_row1\" class=\"row_heading level0 row1\" >1.0</th> \n",
       "        <td id=\"T_25bcd854_bd67_11e8_81f3_d4619d3b535crow1_col0\" class=\"data row1 col0\" >23</td> \n",
       "        <td id=\"T_25bcd854_bd67_11e8_81f3_d4619d3b535crow1_col1\" class=\"data row1 col1\" >129</td> \n",
       "        <td id=\"T_25bcd854_bd67_11e8_81f3_d4619d3b535crow1_col2\" class=\"data row1 col2\" >88</td> \n",
       "        <td id=\"T_25bcd854_bd67_11e8_81f3_d4619d3b535crow1_col3\" class=\"data row1 col3\" >102</td> \n",
       "    </tr></tbody> \n",
       "</table> "
      ],
      "text/plain": [
       "<pandas.io.formats.style.Styler at 0x11ef82f28>"
      ]
     },
     "execution_count": 93,
     "metadata": {},
     "output_type": "execute_result"
    }
   ],
   "source": [
    "pd.crosstab(data[\"Title2\"],data[\"Survived\"]).T.style.background_gradient(cmap=\"summer_r\")"
   ]
  },
  {
   "cell_type": "markdown",
   "metadata": {},
   "source": [
    "再來分析票號的資訊，相同的英文代碼可能代表房間的位置，後面的號碼沒有意義故省略，如果只有號碼的話用X來代替"
   ]
  },
  {
   "cell_type": "code",
   "execution_count": 149,
   "metadata": {},
   "outputs": [],
   "source": [
    "data[\"Ticket_info\"] = data[\"Ticket\"].apply(lambda x :x.replace(\".\",\"\").\n",
    "                                           replace(\"/\",\"\").strip(\"\").split(' ')[0] if not x.isdigit() else 'X')"
   ]
  },
  {
   "cell_type": "code",
   "execution_count": 150,
   "metadata": {},
   "outputs": [
    {
     "data": {
      "text/plain": [
       "array(['A5', 'PC', 'STONO2', 'X', 'PP', 'CA', 'SCParis', 'SCA4', 'A4',\n",
       "       'SP', 'SOC', 'WC', 'SOTONOQ', 'WEP', 'STONO', 'C', 'SCPARIS',\n",
       "       'SOP', 'Fa', 'LINE', 'FCC', 'SWPP', 'SCOW', 'PPP', 'SC', 'SCAH',\n",
       "       'AS', 'SOPP', 'FC', 'SOTONO2', 'CASOTON', 'SCA3', 'STONOQ', 'AQ4',\n",
       "       'A', 'LP', 'AQ3'], dtype=object)"
      ]
     },
     "execution_count": 150,
     "metadata": {},
     "output_type": "execute_result"
    }
   ],
   "source": [
    "data[\"Ticket_info\"].unique()"
   ]
  },
  {
   "cell_type": "markdown",
   "metadata": {},
   "source": [
    "登船港口(Embarked)只有遺漏少數，直接補上出現最多次的\"S\"，費用也只有遺漏一比，因此直接補上平均數"
   ]
  },
  {
   "cell_type": "code",
   "execution_count": 151,
   "metadata": {},
   "outputs": [],
   "source": [
    "data[\"Embarked\"] = data[\"Embarked\"].fillna(\"S\")"
   ]
  },
  {
   "cell_type": "code",
   "execution_count": 152,
   "metadata": {},
   "outputs": [],
   "source": [
    "data[\"Fare\"] = data[\"Fare\"].fillna(data[\"Fare\"].mean())"
   ]
  },
  {
   "cell_type": "markdown",
   "metadata": {},
   "source": [
    "觀察Cabin的資料後，Nan以NoCabin來表示"
   ]
  },
  {
   "cell_type": "code",
   "execution_count": 154,
   "metadata": {},
   "outputs": [
    {
     "data": {
      "text/plain": [
       "0     NaN\n",
       "1     C85\n",
       "2     NaN\n",
       "3    C123\n",
       "4     NaN\n",
       "5     NaN\n",
       "6     E46\n",
       "7     NaN\n",
       "8     NaN\n",
       "9     NaN\n",
       "Name: Cabin, dtype: object"
      ]
     },
     "execution_count": 154,
     "metadata": {},
     "output_type": "execute_result"
    }
   ],
   "source": [
    "data['Cabin'].head(10)"
   ]
  },
  {
   "cell_type": "code",
   "execution_count": 156,
   "metadata": {},
   "outputs": [],
   "source": [
    "data[\"Cabin\"] = data[\"Cabin\"].apply(lambda x : str(x)[0] if not pd.isnull(x) else \"NoCabin\")"
   ]
  },
  {
   "cell_type": "code",
   "execution_count": 158,
   "metadata": {},
   "outputs": [
    {
     "data": {
      "text/plain": [
       "array(['NoCabin', 'C', 'E', 'G', 'D', 'A', 'B', 'F', 'T'], dtype=object)"
      ]
     },
     "execution_count": 158,
     "metadata": {},
     "output_type": "execute_result"
    }
   ],
   "source": [
    "data[\"Cabin\"].unique()"
   ]
  },
  {
   "cell_type": "code",
   "execution_count": 159,
   "metadata": {},
   "outputs": [
    {
     "data": {
      "text/plain": [
       "<matplotlib.axes._subplots.AxesSubplot at 0x11e891940>"
      ]
     },
     "execution_count": 159,
     "metadata": {},
     "output_type": "execute_result"
    },
    {
     "data": {
      "image/png": "[encoded data removed]",
      "text/plain": [
       "<Figure size 432x288 with 1 Axes>"
      ]
     },
     "metadata": {
      "needs_background": "light"
     },
     "output_type": "display_data"
    }
   ],
   "source": [
    "sns.countplot(data['Cabin'])"
   ]
  },
  {
   "cell_type": "markdown",
   "metadata": {},
   "source": [
    "將資料轉為整數"
   ]
  },
  {
   "cell_type": "code",
   "execution_count": 160,
   "metadata": {},
   "outputs": [],
   "source": [
    "data['Sex'] = data['Sex'].astype('category').cat.codes\n",
    "data['Embarked'] = data['Embarked'].astype('category').cat.codes\n",
    "data['Pclass'] = data['Pclass'].astype('category').cat.codes\n",
    "data['Title1'] = data['Title1'].astype('category').cat.codes\n",
    "data['Title2'] = data['Title2'].astype('category').cat.codes\n",
    "data['Cabin'] = data['Cabin'].astype('category').cat.codes\n",
    "data['Ticket_info'] = data['Ticket_info'].astype('category').cat.codes"
   ]
  },
  {
   "cell_type": "markdown",
   "metadata": {},
   "source": [
    "使用隨機森林來推測年齡"
   ]
  },
  {
   "cell_type": "code",
   "execution_count": 162,
   "metadata": {},
   "outputs": [
    {
     "name": "stderr",
     "output_type": "stream",
     "text": [
      "/Library/Frameworks/Python.framework/Versions/3.6/lib/python3.6/site-packages/pandas/core/indexing.py:543: SettingWithCopyWarning: \n",
      "A value is trying to be set on a copy of a slice from a DataFrame.\n",
      "Try using .loc[row_indexer,col_indexer] = value instead\n",
      "\n",
      "See the caveats in the documentation: http://pandas.pydata.org/pandas-docs/stable/indexing.html#indexing-view-versus-copy\n",
      "  self.obj[item] = s\n"
     ]
    }
   ],
   "source": [
    "dataAgeNull = data[data[\"Age\"].isnull()]\n",
    "dataAgeNotNull = data[data[\"Age\"].notnull()]\n",
    "remove_outlier = dataAgeNotNull[(np.abs(dataAgeNotNull[\"Fare\"]-dataAgeNotNull[\"Fare\"].mean())>(4*dataAgeNotNull[\"Fare\"].std()))|\n",
    "                      (np.abs(dataAgeNotNull[\"Family\"]-dataAgeNotNull[\"Family\"].mean())>(4*dataAgeNotNull[\"Family\"].std()))                     \n",
    "                     ]\n",
    "rfModel_age = RandomForestRegressor(n_estimators=2000,random_state=42)\n",
    "ageColumns = ['Embarked', 'Fare', 'Pclass', 'Sex', 'Family', 'Title1', 'Title2','Cabin','Ticket_info']\n",
    "rfModel_age.fit(remove_outlier[ageColumns], remove_outlier[\"Age\"])\n",
    "\n",
    "ageNullValues = rfModel_age.predict(X= dataAgeNull[ageColumns])\n",
    "dataAgeNull.loc[:,\"Age\"] = ageNullValues\n",
    "data = dataAgeNull.append(dataAgeNotNull)\n",
    "data.reset_index(inplace=True, drop=True)"
   ]
  },
  {
   "cell_type": "code",
   "execution_count": 166,
   "metadata": {},
   "outputs": [],
   "source": [
    "dataTrain = data[pd.notnull(data['Survived'])].sort_values(by=[\"PassengerId\"])\n",
    "dataTest = data[~pd.notnull(data['Survived'])].sort_values(by=[\"PassengerId\"])"
   ]
  },
  {
   "cell_type": "code",
   "execution_count": 181,
   "metadata": {},
   "outputs": [],
   "source": [
    "dataTrain = dataTrain[['Survived', 'Age', 'Embarked', 'Fare',  'Pclass', 'Sex', 'Family', 'Title2','Ticket_info','Cabin']]\n",
    "dataTest = dataTest[['Age', 'Embarked', 'Fare', 'Pclass', 'Sex', 'Family', 'Title2','Ticket_info','Cabin']]"
   ]
  },
  {
   "cell_type": "markdown",
   "metadata": {},
   "source": [
    "載入隨機森林演算法（Random Forest)來預測存活率"
   ]
  },
  {
   "cell_type": "code",
   "execution_count": 169,
   "metadata": {},
   "outputs": [
    {
     "name": "stdout",
     "output_type": "stream",
     "text": [
      "0.8294\n"
     ]
    }
   ],
   "source": [
    "from sklearn.ensemble import RandomForestClassifier\n",
    " \n",
    "rf = RandomForestClassifier(criterion='gini', \n",
    "                             n_estimators=1000,\n",
    "                             min_samples_split=12,\n",
    "                             min_samples_leaf=1,\n",
    "                             oob_score=True,\n",
    "                             random_state=1,\n",
    "                             n_jobs=-1) \n",
    "\n",
    "rf.fit(dataTrain.iloc[:, 1:], dataTrain.iloc[:, 0])\n",
    "print(\"%.4f\" % rf.oob_score_)"
   ]
  },
  {
   "cell_type": "code",
   "execution_count": 190,
   "metadata": {},
   "outputs": [
    {
     "data": {
      "text/html": [
       "<div>\n",
       "<style scoped>\n",
       "    .dataframe tbody tr th:only-of-type {\n",
       "        vertical-align: middle;\n",
       "    }\n",
       "\n",
       "    .dataframe tbody tr th {\n",
       "        vertical-align: top;\n",
       "    }\n",
       "\n",
       "    .dataframe thead th {\n",
       "        text-align: right;\n",
       "    }\n",
       "</style>\n",
       "<table border=\"1\" class=\"dataframe\">\n",
       "  <thead>\n",
       "    <tr style=\"text-align: right;\">\n",
       "      <th></th>\n",
       "      <th>variable</th>\n",
       "      <th>importance</th>\n",
       "    </tr>\n",
       "  </thead>\n",
       "  <tbody>\n",
       "    <tr>\n",
       "      <th>4</th>\n",
       "      <td>Sex</td>\n",
       "      <td>0.266774</td>\n",
       "    </tr>\n",
       "    <tr>\n",
       "      <th>2</th>\n",
       "      <td>Fare</td>\n",
       "      <td>0.163736</td>\n",
       "    </tr>\n",
       "    <tr>\n",
       "      <th>6</th>\n",
       "      <td>Title2</td>\n",
       "      <td>0.150190</td>\n",
       "    </tr>\n",
       "    <tr>\n",
       "      <th>0</th>\n",
       "      <td>Age</td>\n",
       "      <td>0.132832</td>\n",
       "    </tr>\n",
       "    <tr>\n",
       "      <th>3</th>\n",
       "      <td>Pclass</td>\n",
       "      <td>0.091129</td>\n",
       "    </tr>\n",
       "    <tr>\n",
       "      <th>5</th>\n",
       "      <td>Family</td>\n",
       "      <td>0.070468</td>\n",
       "    </tr>\n",
       "    <tr>\n",
       "      <th>8</th>\n",
       "      <td>Cabin</td>\n",
       "      <td>0.067366</td>\n",
       "    </tr>\n",
       "    <tr>\n",
       "      <th>7</th>\n",
       "      <td>Ticket_info</td>\n",
       "      <td>0.031140</td>\n",
       "    </tr>\n",
       "    <tr>\n",
       "      <th>1</th>\n",
       "      <td>Embarked</td>\n",
       "      <td>0.026366</td>\n",
       "    </tr>\n",
       "  </tbody>\n",
       "</table>\n",
       "</div>"
      ],
      "text/plain": [
       "      variable  importance\n",
       "4          Sex    0.266774\n",
       "2         Fare    0.163736\n",
       "6       Title2    0.150190\n",
       "0          Age    0.132832\n",
       "3       Pclass    0.091129\n",
       "5       Family    0.070468\n",
       "8        Cabin    0.067366\n",
       "7  Ticket_info    0.031140\n",
       "1     Embarked    0.026366"
      ]
     },
     "execution_count": 190,
     "metadata": {},
     "output_type": "execute_result"
    }
   ],
   "source": [
    "pd.concat((pd.DataFrame(dataTrain.iloc[:, 1:].columns, columns = ['variable']), \n",
    "           pd.DataFrame(rf.feature_importances_, columns = ['importance'])), \n",
    "          axis = 1).sort_values(by='importance', ascending = False)[:20]"
   ]
  },
  {
   "cell_type": "markdown",
   "metadata": {},
   "source": [
    "# Submit"
   ]
  },
  {
   "cell_type": "code",
   "execution_count": 194,
   "metadata": {},
   "outputs": [],
   "source": [
    "rf_res =  rf.predict(dataTest)\n",
    "final['Survived'] = rf_res\n",
    "final['Survived'] = final['Survived'].astype(int)\n",
    "final.to_csv('submit.csv', index= False)"
   ]
  },
  {
   "cell_type": "code",
   "execution_count": null,
   "metadata": {},
   "outputs": [],
   "source": []
  },
  {
   "cell_type": "code",
   "execution_count": null,
   "metadata": {},
   "outputs": [],
   "source": []
  }
 ],
 "metadata": {
  "kernelspec": {
   "display_name": "Python 3",
   "language": "python",
   "name": "python3"
  },
  "language_info": {
   "codemirror_mode": {
    "name": "ipython",
    "version": 3
   },
   "file_extension": ".py",
   "mimetype": "text/x-python",
   "name": "python",
   "nbconvert_exporter": "python",
   "pygments_lexer": "ipython3",
   "version": "3.6.5"
  }
 },
 "nbformat": 4,
 "nbformat_minor": 2
}
